{
 "cells": [
  {
   "cell_type": "code",
   "execution_count": 88,
   "metadata": {},
   "outputs": [
    {
     "name": "stdout",
     "output_type": "stream",
     "text": [
      "Execution time: 0.070955 seconds\n"
     ]
    }
   ],
   "source": [
    "#TSPLibのIdを揃える\n",
    "import re\n",
    "\n",
    "def load_id_mapping(mapping_file: str):\n",
    "    id_mapping = {}\n",
    "    with open(mapping_file, 'r') as f:\n",
    "        for line in f:\n",
    "            line = line.strip()\n",
    "            if not line or '->' not in line:\n",
    "                continue\n",
    "            try:\n",
    "                old_id, new_id = line.split(' -> ')\n",
    "                id_mapping[new_id.strip()] = old_id.strip()  # 逆に格納\n",
    "            except ValueError:\n",
    "                print(f\"Skipping invalid line: {line}\")\n",
    "    return id_mapping\n",
    "\n",
    "def replace_node_ids_in_tsplib(input_file: str, output_file: str, id_mapping: dict):\n",
    "    with open(input_file, 'r') as f:\n",
    "        content = f.readlines()\n",
    "    \n",
    "    replaced_content = []\n",
    "    in_node_section = False\n",
    "    for line in content:\n",
    "        stripped_line = line.strip()\n",
    "        \n",
    "        if stripped_line == \"NODE_COORD_SECTION\":\n",
    "            in_node_section = True\n",
    "            replaced_content.append(line)\n",
    "            continue\n",
    "        \n",
    "        if in_node_section:\n",
    "            if stripped_line == \"EOF\":\n",
    "                in_node_section = False\n",
    "                replaced_content.append(line)\n",
    "                continue\n",
    "            \n",
    "            parts = stripped_line.split()\n",
    "            if len(parts) >= 3:\n",
    "                node_id, x, y = parts[0], parts[1], parts[2]\n",
    "                if node_id in id_mapping:\n",
    "                    node_id = id_mapping[node_id]  # ノードIDを置換\n",
    "                replaced_content.append(f\"{node_id} {x} {y}\\n\")\n",
    "                continue\n",
    "        \n",
    "        replaced_content.append(line)\n",
    "    \n",
    "    with open(output_file, 'w') as f:\n",
    "        f.writelines(replaced_content)\n",
    "\n",
    "# ID対応表のファイル\n",
    "start_time = time.time()\n",
    "mapping_file = \"mappin90k_n5.txt\"\n",
    "id_mapping = load_id_mapping(mapping_file)\n",
    "\n",
    "# 入出力ファイルのパス\n",
    "input_tsplib_file = \"similar_90K_n5.tsp\"  # 変換前のTSPLIBファイル\n",
    "output_tsplib_file = \"similar_90K_n5_pre.tsp\"  # 変換後のTSPLIBファイル\n",
    "\n",
    "replace_node_ids_in_tsplib(input_tsplib_file, output_tsplib_file, id_mapping)\n",
    "end_time = time.time()\n",
    "print(f\"Execution time: {end_time - start_time:.6f} seconds\")"
   ]
  },
  {
   "cell_type": "code",
   "execution_count": 93,
   "metadata": {},
   "outputs": [
    {
     "name": "stdout",
     "output_type": "stream",
     "text": [
      "Execution time: 0.053347 seconds\n"
     ]
    }
   ],
   "source": [
    "#TourのIDを揃える\n",
    "\n",
    "import time\n",
    "\n",
    "def load_id_mapping(mapping_file: str):\n",
    "    \"\"\"ID変換辞書を作成（new_id -> old_id）\"\"\"\n",
    "    id_mapping = {}\n",
    "    with open(mapping_file, 'r') as f:\n",
    "        for line in f:\n",
    "            parts = line.strip().split(' -> ')\n",
    "            if len(parts) == 2:\n",
    "                old_id, new_id = parts\n",
    "                id_mapping[new_id.strip()] = old_id.strip()\n",
    "    return id_mapping\n",
    "\n",
    "def replace_ids_in_tsplib(input_file: str, output_file: str, id_mapping: dict):\n",
    "    \"\"\"TSPLIBファイル内のIDを辞書を用いて高速変換\"\"\"\n",
    "    with open(input_file, 'r') as f:\n",
    "        with open(output_file, 'w') as out_f:\n",
    "            for line in f:\n",
    "                words = line.split()  # 単語単位で処理\n",
    "                new_line = \" \".join(id_mapping.get(word, word) for word in words)\n",
    "                out_f.write(new_line + \"\\n\")\n",
    "\n",
    "# 実行部分\n",
    "start_time = time.time()\n",
    "\n",
    "mapping_file = \"mappin90k_n5.txt\"\n",
    "input_tsplib_file = \"updated_initial_90k_n5_3opt.tour\"\n",
    "output_tsplib_file = \"updated_initial_90k_n5_pre_3opt.tour\"\n",
    "\n",
    "id_mapping = load_id_mapping(mapping_file)\n",
    "replace_ids_in_tsplib(input_tsplib_file, output_tsplib_file, id_mapping)\n",
    "\n",
    "end_time = time.time()\n",
    "print(f\"Execution time: {end_time - start_time:.6f} seconds\")\n"
   ]
  }
 ],
 "metadata": {
  "kernelspec": {
   "display_name": "base",
   "language": "python",
   "name": "python3"
  },
  "language_info": {
   "codemirror_mode": {
    "name": "ipython",
    "version": 3
   },
   "file_extension": ".py",
   "mimetype": "text/x-python",
   "name": "python",
   "nbconvert_exporter": "python",
   "pygments_lexer": "ipython3",
   "version": "3.12.4"
  }
 },
 "nbformat": 4,
 "nbformat_minor": 2
}
